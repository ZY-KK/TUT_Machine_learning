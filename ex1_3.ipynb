{
 "nbformat": 4,
 "nbformat_minor": 2,
 "metadata": {
  "language_info": {
   "name": "python",
   "codemirror_mode": {
    "name": "ipython",
    "version": 3
   }
  },
  "orig_nbformat": 2,
  "file_extension": ".py",
  "mimetype": "text/x-python",
  "name": "python",
  "npconvert_exporter": "python",
  "pygments_lexer": "ipython3",
  "version": 3
 },
 "cells": [
  {
   "cell_type": "code",
   "execution_count": 5,
   "metadata": {},
   "outputs": [
    {
     "name": "stdout",
     "output_type": "stream",
     "text": "dict_keys(['__header__', '__version__', '__globals__', 'y', 'X'])\n"
    }
   ],
   "source": [
    "from scipy.io import loadmat\n",
    "import matplotlib.pyplot as plt\n",
    "mat=loadmat(\"./Dataset/Ex1_data/twoClassData.mat\")\n",
    "print(mat.keys())"
   ]
  },
  {
   "cell_type": "code",
   "execution_count": null,
   "metadata": {},
   "outputs": [],
   "source": [
    "X=mat[\"X\"]\n",
    "y=mat[\"y\"].ravel()\n",
    "X[:,0]=X[y==0, :]\n",
    "X[:,1]=X[y==1, :]\n",
    "plt.plot(X[:,0],'bo' X[:,1], 'ro')"
   ]
  }
 ]
}